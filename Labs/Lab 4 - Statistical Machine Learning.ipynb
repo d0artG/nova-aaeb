{
 "cells": [
  {
   "cell_type": "markdown",
   "metadata": {},
   "source": [
    "<table style=\"background-color:#F5F5F5;\" width=\"100%\">\n",
    "<tr><td style=\"background-color:#F5F5F5;\"><img src=\"../images/logo.png\" width=\"100\" align='right'/></td></tr>     <tr><td>\n",
    "            <h1><center>Aprendizagem Automática em Engenharia Biomédica</center></h1>\n",
    "            <h3><center>1st Semester - 2021/2022</center></h3>\n",
    "            <h4><center>Universidade Nova de Lisboa - Faculdade de Ciências e Tecnologia</center></h4>\n",
    "</td></tr>\n",
    "    <tr><td><h1><center>Lab 4 - Statistical Machine Learning</center></h1></td></tr>\n",
    "</table>"
   ]
  },
  {
   "cell_type": "markdown",
   "metadata": {},
   "source": [
    "#### Import libraries"
   ]
  },
  {
   "cell_type": "code",
   "execution_count": 1,
   "metadata": {},
   "outputs": [],
   "source": [
    "# %matplotlib notebook\n",
    "import numpy as np\n",
    "import novainstrumentation as ni\n",
    "import seaborn as sns\n",
    "import matplotlib.pyplot as plt"
   ]
  },
  {
   "cell_type": "markdown",
   "metadata": {},
   "source": [
    "Consider a classification problem with two classes and one feature: \n",
    "\n",
    "C1 with $$\\mu_1 = -2, \\sigma_1 = 1$$   \n",
    "C2 with $$\\mu_2 = 2, \\sigma_2 = 1$$ \n",
    "\n",
    "and assume the classes to be equiprobable: $$P(w_1) = P(w_2) = 0.5$$"
   ]
  },
  {
   "cell_type": "markdown",
   "metadata": {},
   "source": [
    "**Bayes rule**:\n",
    "\n",
    "$P(w_i|x) = \\frac{p(x|w_i)P(w_i)}{\\sum_{j=1}^{C} p(x|w_j)P(w_i)}$\n",
    "\n",
    "with $P(w_i|x)$ being the *a posteriori* class probability for class $w_i$ defined in\n",
    "terms of the class conditional pdf of observations and the *a priori* class probability, $P(w_i)$"
   ]
  },
  {
   "cell_type": "markdown",
   "metadata": {},
   "source": [
    "__Step 0__: Assign the class *priors* to `pw1` and `pw2` variables"
   ]
  },
  {
   "cell_type": "code",
   "execution_count": null,
   "metadata": {},
   "outputs": [],
   "source": []
  },
  {
   "cell_type": "markdown",
   "metadata": {},
   "source": [
    "__Step 1__: Define a function to calculate the probability density function of a normal distribution.\n",
    "\n",
    "$f(x) =\\frac{1}{\\sqrt{2\\sigma^2\\pi}}\\, e^{-\\frac{(x - \\mu)^2}{2 \\sigma^2}}$"
   ]
  },
  {
   "cell_type": "code",
   "execution_count": null,
   "metadata": {},
   "outputs": [],
   "source": []
  },
  {
   "cell_type": "markdown",
   "metadata": {},
   "source": [
    "__Step 2__: Call the previous function to plot the likelihood of each class"
   ]
  },
  {
   "cell_type": "code",
   "execution_count": 2,
   "metadata": {},
   "outputs": [],
   "source": [
    "# x range\n",
    "dx = 0.1\n",
    "x = np.arange(-7, 7, dx)\n",
    "\n",
    "# Class 1\n",
    "\n",
    "# Class 2\n",
    "\n",
    "\n",
    "# Plot\n"
   ]
  },
  {
   "cell_type": "markdown",
   "metadata": {},
   "source": [
    "__Step 3__: Calculate the *prior* probability of the evidence over the defined feature vector. Plot the result."
   ]
  },
  {
   "cell_type": "code",
   "execution_count": 3,
   "metadata": {},
   "outputs": [],
   "source": [
    "# Evidence\n",
    "\n",
    "# Plot\n"
   ]
  },
  {
   "cell_type": "markdown",
   "metadata": {},
   "source": [
    "__Step 4__: Calculate the *a posteriori* class probability for each class according to the Bayes rule for the entire feature vector."
   ]
  },
  {
   "cell_type": "code",
   "execution_count": 4,
   "metadata": {},
   "outputs": [],
   "source": [
    "# a posterior probability\n",
    "\n",
    "\n",
    "# Plot\n"
   ]
  },
  {
   "cell_type": "markdown",
   "metadata": {},
   "source": [
    "__Step 5__: What is the probability of being class 1 and 2 given `xi = -1`?"
   ]
  },
  {
   "cell_type": "code",
   "execution_count": null,
   "metadata": {},
   "outputs": [],
   "source": []
  },
  {
   "cell_type": "markdown",
   "metadata": {},
   "source": [
    "__Step 6__: What is the probability of being class 1 and 2 given `x2 = 0`?"
   ]
  },
  {
   "cell_type": "code",
   "execution_count": null,
   "metadata": {},
   "outputs": [],
   "source": []
  },
  {
   "cell_type": "markdown",
   "metadata": {},
   "source": [
    "__Step 7__: Plot both examples overlaid with plot from __Step 4__. Annotate the examples using `plt.vlines()`"
   ]
  },
  {
   "cell_type": "code",
   "execution_count": 5,
   "metadata": {},
   "outputs": [],
   "source": [
    "# Plot\n"
   ]
  },
  {
   "cell_type": "markdown",
   "metadata": {},
   "source": [
    "__Step 8__: Define the discriminative functions for this problem?"
   ]
  },
  {
   "cell_type": "code",
   "execution_count": null,
   "metadata": {},
   "outputs": [],
   "source": [
    "# The discriminative functions are already defined in Step 4. \n",
    "# However we can simplify them since evidence is constant.\n",
    "\n",
    "g1 = \n",
    "g2 = "
   ]
  },
  {
   "cell_type": "markdown",
   "metadata": {},
   "source": [
    "__Step 9__: What is the separation surface between class 1 and 2? Use a tolerance of $1e^{-7}$ to find the solution and plot the result using the discriminative functions. Assign the result to `x_sep` variable."
   ]
  },
  {
   "cell_type": "code",
   "execution_count": 6,
   "metadata": {},
   "outputs": [],
   "source": [
    "tolerance = 1e-7\n",
    "\n",
    "# Plot\n"
   ]
  },
  {
   "cell_type": "markdown",
   "metadata": {},
   "source": [
    "__Step 10__: What is the error of this classification problem?\n",
    "\n",
    "Derive the error formula by integrating the discriminative functions of __Step 8__.\n",
    "\n",
    "Compute the error as $P_e = 1 - \\int_{-\\infty}^{\\infty}\\max_i(g_i)$"
   ]
  },
  {
   "cell_type": "code",
   "execution_count": 7,
   "metadata": {},
   "outputs": [
    {
     "name": "stdout",
     "output_type": "stream",
     "text": [
      "Error:\n"
     ]
    }
   ],
   "source": [
    "\n",
    "print('Error:')\n",
    "\n",
    "# Plot"
   ]
  },
  {
   "cell_type": "markdown",
   "metadata": {},
   "source": [
    "__Step 11__: Compare the error from __Step 10__ with the analytical error\n",
    "\n",
    "\n",
    "Calculate the error analiticaly: $ e =  2 \\int_{-\\infty}^{x_{sep}} g_2 = 2 \\int_{-\\infty}^{x_{sep}} g_1$ \n",
    "\n",
    "$cdf = \\int pdf, cdf = \\frac12\\left[1 + \\operatorname{erf}\\left( \\frac{x-\\mu}{\\sigma\\sqrt{2}}\\right)\\right] p(w) $"
   ]
  },
  {
   "cell_type": "code",
   "execution_count": 8,
   "metadata": {},
   "outputs": [
    {
     "name": "stdout",
     "output_type": "stream",
     "text": [
      "Error:\n"
     ]
    }
   ],
   "source": [
    "from scipy.special import erf\n",
    "\n",
    "\n",
    "print('Error:', )"
   ]
  },
  {
   "cell_type": "markdown",
   "metadata": {},
   "source": [
    "__Step 12__: Use sklearn to learn and test the classification. Compare the obtained error with the __Step 10__ and __Step 11__\n",
    "\n",
    "1. Data generation"
   ]
  },
  {
   "cell_type": "code",
   "execution_count": 9,
   "metadata": {},
   "outputs": [
    {
     "data": {
      "image/png": "[encoded data removed]",
      "text/plain": [
       "<Figure size 432x288 with 1 Axes>"
      ]
     },
     "metadata": {
      "needs_background": "light"
     },
     "output_type": "display_data"
    }
   ],
   "source": [
    "n_points = 1e6\n",
    "\n",
    "y = np.random.randint(2, size=int(n_points))\n",
    "X = np.random.randn(int(n_points)) + y.astype('float') * 4. -2.\n",
    "\n",
    "plt.figure()\n",
    "plt.hist(X,100);\n",
    "\n",
    "X = X.reshape(-1, 1)"
   ]
  },
  {
   "cell_type": "markdown",
   "metadata": {},
   "source": [
    "2. Divide the data in test and train sets. Use 50% for train and test"
   ]
  },
  {
   "cell_type": "code",
   "execution_count": null,
   "metadata": {},
   "outputs": [],
   "source": []
  },
  {
   "cell_type": "markdown",
   "metadata": {},
   "source": [
    "3. Fit and classify. Use [GaussianNB](https://scikit-learn.org/stable/modules/generated/sklearn.naive_bayes.GaussianNB.html) classifier"
   ]
  },
  {
   "cell_type": "code",
   "execution_count": null,
   "metadata": {},
   "outputs": [],
   "source": []
  },
  {
   "cell_type": "markdown",
   "metadata": {},
   "source": [
    "4. Measure the error."
   ]
  },
  {
   "cell_type": "code",
   "execution_count": 10,
   "metadata": {},
   "outputs": [
    {
     "name": "stdout",
     "output_type": "stream",
     "text": [
      "Error:\n"
     ]
    }
   ],
   "source": [
    "print('Error:', )"
   ]
  },
  {
   "cell_type": "markdown",
   "metadata": {},
   "source": [
    "5. Observe the trained parameters"
   ]
  },
  {
   "cell_type": "code",
   "execution_count": null,
   "metadata": {},
   "outputs": [],
   "source": []
  }
 ],
 "metadata": {
  "kernelspec": {
   "display_name": "Python 3",
   "language": "python",
   "name": "python3"
  },
  "language_info": {
   "codemirror_mode": {
    "name": "ipython",
    "version": 3
   },
   "file_extension": ".py",
   "mimetype": "text/x-python",
   "name": "python",
   "nbconvert_exporter": "python",
   "pygments_lexer": "ipython3",
   "version": "3.8.5"
  }
 },
 "nbformat": 4,
 "nbformat_minor": 4
}

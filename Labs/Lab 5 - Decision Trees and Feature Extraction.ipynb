{
 "cells": [
  {
   "cell_type": "markdown",
   "metadata": {},
   "source": [
    "<table style=\"background-color:#F5F5F5;\" width=\"100%\">\n",
    "<tr><td style=\"background-color:#F5F5F5;\"><img src=\"../images/logo.png\" width=\"150\" align='right'/></td></tr>     <tr><td>\n",
    "            <h2><center>Aprendizagem Automática em Engenharia Biomédica</center></h2>\n",
    "            <h3><center>1st Semester - 2023/2024</center></h3>\n",
    "            <h4><center>Universidade Nova de Lisboa - Faculdade de Ciências e Tecnologia</center></h4>\n",
    "</td></tr>\n",
    "    <tr><td><h2><b><center>Lab 5 - Decision Trees and Feature Extraction</center></b></h2>\n",
    "    <h4><i><b><center>Human Activity Recognition with Decision Trees</center></b></i></h4></td></tr>\n",
    "</table>"
   ]
  },
  {
   "cell_type": "markdown",
   "metadata": {},
   "source": [
    "## 1. Human Activity Recognition\n",
    "\n",
    "Within the ML world, one common task is to predict different activities performed by humans, such as walking, running or standing. \n",
    "\n",
    "Since such activities change continuously, it is necessary to consider data collected throughout time, so one can predict the performed activity at any given moment. For this purpose, __time series__ are sets of temporal information collected by different sensors.\n",
    "\n",
    "Movement sensors like the accelererometer are useful for the Human Activity Recognition (HAR) complext task. However, as models are not inherently prepared to process time series data, an additional step is necessary to include in the ML pipeline: __Feature Extraction__.\n",
    "\n",
    "### 1.1. The _UCI Human Activity Recognition Using Smartphones Data Set_\n",
    "\n",
    "Let's use a well-known HAR dataset from the [UCI repository](https://archive.ics.uci.edu/ml/datasets/Smartphone-Based+Recognition+of+Human+Activities+and+Postural+Transitions):\n",
    "\n",
    "_The experiments were carried out with a group of __30 volunteers__ within an age bracket of 19-48 years. They performed a protocol of activities composed of __six basic activities: three static postures (standing, sitting, lying) and three dynamic activities (walking, walking downstairs and walking upstairs)__. The experiment also included postural transitions that occurred between the static postures. These are: stand-to-sit, sit-to-stand, sit-to-lie, lie-to-sit, stand-to-lie, and lie-to-stand. All the participants were wearing a smartphone (Samsung Galaxy S II) on the waist during the experiment execution. We captured __3-axial linear acceleration and 3-axial angular velocity__ at a constant rate of __50Hz__ using the embedded accelerometer and gyroscope of the device. The experiments were video-recorded to label the data manually. The obtained dataset was randomly partitioned into two sets, where __70% of the volunteers was selected for generating the training data and 30% the test data__._\n",
    "\n",
    "In this notebook, we will only use the X axis of the acceleration data."
   ]
  },
  {
   "cell_type": "code",
   "execution_count": null,
   "metadata": {},
   "outputs": [],
   "source": [
    "# %matplotlib notebook\n",
    "# !pip install wget\n",
    "import os\n",
    "import wget\n",
    "import zipfile\n",
    "import numpy as np\n",
    "import pandas as pd\n",
    "import matplotlib.pyplot as plt\n",
    "\n",
    "from sys import platform"
   ]
  },
  {
   "cell_type": "code",
   "execution_count": null,
   "metadata": {},
   "outputs": [],
   "source": [
    "# Download dataset from UCI repo\n",
    "if not os.path.exists(\"Data/UCI HAR Dataset.zip\"):\n",
    "    url = 'http://archive.ics.uci.edu/ml/machine-learning-databases/00240/UCI HAR Dataset.zip'\n",
    "    wget.download(url, out=\"Data/UCI HAR Dataset.zip\")\n",
    "\n",
    "# Unzip dataset\n",
    "zip_ref = zipfile.ZipFile(\"Data/UCI HAR Dataset.zip\", 'r')\n",
    "zip_ref.extractall(\"Data\")\n",
    "zip_ref.close()"
   ]
  },
  {
   "cell_type": "markdown",
   "metadata": {},
   "source": [
    "The method `get_inertial_data()` performs the loading of one acceleration axis, including the original raw data and the corresponding labels. Furthermore, the id of the subject that performed the activity is also loaded."
   ]
  },
  {
   "cell_type": "code",
   "execution_count": null,
   "metadata": {},
   "outputs": [],
   "source": [
    "# AUXILIAR FUNCTION\n",
    "def get_inertial_data(acc_axis):\n",
    "    \n",
    "    # Load train data\n",
    "    X_train = np.loadtxt('Data/UCI HAR Dataset/train/Inertial Signals/total_'+ acc_axis +'_train.txt')\n",
    "    X_train = np.hstack([wind[:64] for wind in X_train])\n",
    "    y_train = np.loadtxt('Data/UCI HAR Dataset/train/y_train.txt', dtype=int)\n",
    "    y_train = np.repeat(y_train, 64)\n",
    "    subject_train = np.loadtxt('Data/UCI HAR Dataset/train/subject_train.txt', dtype=int)\n",
    "    subject_train = np.repeat(subject_train, 64)\n",
    "    \n",
    "    # Load test data\n",
    "    X_test = np.loadtxt('Data/UCI HAR Dataset/test/Inertial Signals/total_'+ acc_axis +'_test.txt')\n",
    "    X_test = np.hstack([wind[:64] for wind in X_test])\n",
    "    y_test = np.loadtxt('Data/UCI HAR Dataset/test/y_test.txt', dtype=int)\n",
    "    y_test = np.repeat(y_test, 64)\n",
    "    subject_test = np.loadtxt('Data/UCI HAR Dataset/test/subject_test.txt', dtype=int)\n",
    "    subject_test = np.repeat(subject_test, 64)\n",
    "    \n",
    "    # Load activity labels\n",
    "    activity_labels = pd.read_csv('Data/UCI HAR Dataset/activity_labels.txt', index_col=0, header=None, sep=' ')\n",
    "    \n",
    "    return X_train, y_train, subject_train, X_test, y_test, subject_test, np.hstack(activity_labels.values)"
   ]
  },
  {
   "cell_type": "code",
   "execution_count": null,
   "metadata": {},
   "outputs": [],
   "source": [
    "train_data, train_labels, subject_train, test_data, test_labels, subject_test, activity_labels = get_inertial_data('acc_x')\n",
    "\n",
    "print(\"ACC train data shape: {} | target shape: {} | Subjects: {}\".format(train_data.shape, train_labels.shape,np.unique(subject_train).size))\n",
    "print(\"ACC test  data shape: {} | target shape: {} | Subjects: {}\".format(test_data.shape, test_labels.shape, np.unique(subject_test).size))\n",
    "print(\"Available Activities:\\n{}\".format(activity_labels))"
   ]
  },
  {
   "cell_type": "markdown",
   "metadata": {},
   "source": [
    "Let's looks at the full data of one subject. Plot accelerometer data and add vertical lines in the transitons of the activities. "
   ]
  },
  {
   "cell_type": "code",
   "execution_count": null,
   "metadata": {},
   "outputs": [],
   "source": [
    "subject = 1\n",
    "\n",
    "signal = train_data[subject_train == subject]\n",
    "idx_transitions = np.where(np.diff(train_labels[subject_train == subject]) != 0)[0]\n",
    "\n",
    "plt.figure()\n",
    "plt.title(\"Acceleration Data from Subject {}\".format(subject))\n",
    "plt.plot(signal)\n",
    "plt.vlines(idx_transitions , -.5, 2, color='orange');"
   ]
  },
  {
   "cell_type": "markdown",
   "metadata": {},
   "source": [
    "Now, it is important to verify if our data is balanced, as it may present problems."
   ]
  },
  {
   "cell_type": "code",
   "execution_count": null,
   "metadata": {},
   "outputs": [],
   "source": [
    "plt.figure()\n",
    "plt.title(\"Distribution of Classification Samples\")\n",
    "plt.hist(train_labels, range=[1,7], bins=6, width=0.8)\n",
    "plt.xticks(np.arange(1,7), activity_labels, rotation=45)\n",
    "plt.tight_layout()"
   ]
  },
  {
   "cell_type": "markdown",
   "metadata": {},
   "source": [
    "## 2. Feature Extraction\n",
    "\n",
    "Models need to learn from useful characteristics from each data sample, i.e. window. For that purpose, it is necessary to extract features from the signals.\n",
    "\n",
    "From the above plot we can see that there are significant differences in the amplitude of each activity. For a classification task we may want to provide a classification every `x` seconds. Using the previous signals we can calculate some features such as `np.mean()`, `np.max()` and `np.min` for every `5` seconds and evaluate if it enough to distinguish our classes."
   ]
  },
  {
   "cell_type": "markdown",
   "metadata": {},
   "source": [
    "__Exercise 2.1__: Define a function to divide the accelerometer data (and labels) into windows of `5 seconds`.\n",
    "\n",
    "If in the same window we have more than one class, what should we do? Define a strategy and justify them.\n",
    "\n",
    "Expected size: \n",
    "\n",
    "`train_windows` - `[n_windows, window_size]`\n",
    "\n",
    "`y_train` - `[n_windows]`"
   ]
  },
  {
   "cell_type": "code",
   "execution_count": null,
   "metadata": {},
   "outputs": [],
   "source": [
    "sampling_frequency = 50\n",
    "\n",
    "# define window size\n",
    "window_size = \n",
    "\n",
    "def window_splitter(train_data, train_labels, window_size):\n",
    "    \n",
    "    # TODO\n",
    "    \n",
    "    return train_windows, y_train"
   ]
  },
  {
   "cell_type": "markdown",
   "metadata": {},
   "source": [
    "__Exercise 2.2__: Implement a function to calculate statistical features. The ouput should be an array of shape `X_train` - `[n_windows, n_features]`."
   ]
  },
  {
   "cell_type": "code",
   "execution_count": null,
   "metadata": {},
   "outputs": [],
   "source": [
    "def compute_statistical_features(windows):\n",
    "    \n",
    "    # TODO\n",
    "    \n",
    "    return X_train"
   ]
  },
  {
   "cell_type": "markdown",
   "metadata": {},
   "source": [
    "__Exercise: 2.3__: Use the previous functions to split the data and extract the features."
   ]
  },
  {
   "cell_type": "code",
   "execution_count": null,
   "metadata": {},
   "outputs": [],
   "source": []
  },
  {
   "cell_type": "markdown",
   "metadata": {},
   "source": [
    "## 3. Training a Decision Tree Classifier\n",
    "\n",
    "Using sklearn package train a Decision Tree ([`DecisionTreeClassifier()`](https://scikit-learn.org/stable/modules/generated/sklearn.tree.DecisionTreeClassifier.html)) using the statistical features we extracted from the data."
   ]
  },
  {
   "cell_type": "code",
   "execution_count": null,
   "metadata": {},
   "outputs": [],
   "source": [
    "from sklearn.tree import DecisionTreeClassifier\n",
    "\n",
    "clf = DecisionTreeClassifier(random_state=42)"
   ]
  },
  {
   "cell_type": "markdown",
   "metadata": {},
   "source": [
    "__Exercise 3.1:__ Train the classifier and check its performance using accuracy in both train and test sets."
   ]
  },
  {
   "cell_type": "code",
   "execution_count": null,
   "metadata": {},
   "outputs": [],
   "source": [
    "\n",
    "\n",
    "print('Train Accuracy: %.3f ' % acc_train)\n",
    "print('Test Accuracy : %.3f' % acc_test)"
   ]
  },
  {
   "cell_type": "markdown",
   "metadata": {},
   "source": [
    "From the results, we can clearly assert that our model is __overfitted__ to the training data. \n",
    "\n",
    "As we let the learning process run with default values, the model converged into a perfect solution in the train set through a overly complex tree. This tree cannot generalize well to the test set.\n",
    "\n",
    "Use `plot_tree` from sklearn to visualized the complex decision tree obtained."
   ]
  },
  {
   "cell_type": "code",
   "execution_count": null,
   "metadata": {},
   "outputs": [],
   "source": [
    "from sklearn.tree import plot_tree\n",
    "\n",
    "plt.figure(figsize=(18,10))\n",
    "plot_tree(clf, filled=True)\n",
    "plt.show()"
   ]
  },
  {
   "cell_type": "markdown",
   "metadata": {},
   "source": [
    "<div class=\"alert alert-block alert-info\">\n",
    "\n",
    "# Avoiding Overfitting\n",
    "\n",
    "> Decision-tree learners can create over-complex trees that do not generalise the data well. This is called overfitting.\n",
    "    \n",
    "## Prepruning a tree\n",
    "\n",
    "The splitter <br>\n",
    "The maximum depth<br>\n",
    "The minimum number of samples required to split<br>\n",
    "The minimum samples in each leaf<br>\n",
    "The minimum weight fraction in each leaf<br>\n",
    "The maximum number of features]<br>\n",
    "The maximum number of leaf nodes<br>\n",
    "The minimum impurity decrease<br>\n",
    "</div>"
   ]
  },
  {
   "cell_type": "markdown",
   "metadata": {},
   "source": [
    "To avoid overfitting, it is necessary to adjust the model hyperparameters, to impose some limitations to the training process. \n",
    "\n",
    "As it is not possible to test all combinations by hand, it is useful to resort to additional optimization techniques (we will learn about optimization techniques in the next lab class).\n",
    "\n",
    "__Exercise 3.2__: For now try to use a maximum depth of 5 and compare again the accuracy score and visualize the tree. "
   ]
  },
  {
   "cell_type": "code",
   "execution_count": null,
   "metadata": {},
   "outputs": [],
   "source": [
    "\n",
    "\n",
    "print('Train Accuracy: %.3f ' % acc_train)\n",
    "print('Test Accuracy : %.3f' % acc_test)"
   ]
  },
  {
   "cell_type": "code",
   "execution_count": null,
   "metadata": {},
   "outputs": [],
   "source": [
    "plt.figure(figsize=(10,5))\n",
    "plot_tree(model, filled=True)\n",
    "plt.show()"
   ]
  },
  {
   "cell_type": "markdown",
   "metadata": {},
   "source": [
    "__Exercise 3.4:__ Plot the confusion matrix to understand the misclassifications of our model."
   ]
  },
  {
   "cell_type": "code",
   "execution_count": null,
   "metadata": {},
   "outputs": [],
   "source": []
  },
  {
   "cell_type": "markdown",
   "metadata": {},
   "source": [
    "## 4. Automatic Feature Extraction with TSFEL\n",
    "\n",
    "Another method to extract useful information from data is to leverage automatic feature extraction tools, which can compute in an efficient way more informative representations of our data.\n",
    "\n",
    "For time series data, the Time Series Feature Extraction Library ([TSFEL](https://tsfel.readthedocs.io/en/latest/)) is able to extract features from the temporal, statistical and spectral domains. \n",
    "\n",
    "We will try this tool in the Human Activity Recognition Dataset, but first we need to install it. Run on your terminal:\n",
    "\n",
    "`pip install tsfel`\n",
    "\n",
    "Let's see how it works. The computation process takes some time, TSFEL will extract 259 features. "
   ]
  },
  {
   "cell_type": "code",
   "execution_count": null,
   "metadata": {},
   "outputs": [],
   "source": [
    "import tsfel\n",
    "\n",
    "cfg = tsfel.get_features_by_domain()\n",
    "\n",
    "X_train_tsfel = tsfel.time_series_features_extractor(cfg, train_windows, fs=50)\n",
    "X_test_tsfel = tsfel.time_series_features_extractor(cfg, test_windows, fs=50)"
   ]
  },
  {
   "cell_type": "code",
   "execution_count": null,
   "metadata": {},
   "outputs": [],
   "source": [
    "X_train_tsfel.head()"
   ]
  },
  {
   "cell_type": "markdown",
   "metadata": {},
   "source": [
    "__Excercise 4.1__: Fit the model again with the new feature vector and calculate the accuracy score for both sets."
   ]
  },
  {
   "cell_type": "code",
   "execution_count": null,
   "metadata": {},
   "outputs": [],
   "source": [
    "\n",
    "\n",
    "print('Train Accuracy: %.3f ' % acc_train)\n",
    "print('Test Accuracy : %.3f' % acc_test)"
   ]
  },
  {
   "cell_type": "markdown",
   "metadata": {},
   "source": [
    "Adding more features increase our accuracy! But now we have `250` features instead of `3`. \n",
    "\n",
    "With this high number of features we can apply feature selection methods and increase again our accuracy. In the next lab we will learn about feature selection methods."
   ]
  },
  {
   "attachments": {
    "tree.png": {
     "image/png": "[encoded data removed]"
    }
   },
   "cell_type": "markdown",
   "metadata": {},
   "source": [
    "# Decision Tree Models\n",
    "\n",
    "Decision Tree is one of the most widely used ML algorithms. In this method, the learning function that maps a set of variables into the target is represented by a decision tree. Such trees can also be represented as sets of if-then rules for human readability.\n",
    "\n",
    "<div>\n",
    "<img src=\"attachment:tree.png\" width=\"800\"/>\n",
    "</div>\n",
    "\n",
    "When looking at a decision tree, there are some important concepts to take into consideration:\n",
    "\n",
    "* __Root node__: The top node of a decision tree from which all node splits come from. It represents the entire population.\n",
    "\n",
    "* __Decision nodes__: These are nodes which are subdivided into new branches. Similarly, __parent nodes__ are those divided into sub-nodes, and these are called the __child nodes__.\n",
    "\n",
    "* __Leaf or Terminal nodes__: Includes all nodes that are not further subdivided, thus representing the predicted class.\n",
    "\n",
    "Decision Trees therefore classify samples by sorting them down from the root of the tree up to some leaf node, providing the final classification. Each node evaluates a specific attribute, which then divides the samples according to an optimized condition.\n",
    "\n",
    "These models were originally developed for classification, although variations exist for the regression task. By dividing the multidimensional space into sections, these models are quite robust to outliers.\n",
    "\n",
    "### Optimizing Decision Trees\n",
    "\n",
    "Training a decision tree is an iterative process towards an optimized solution. In simple terms, at each iteration, every data feature is tested to assert which is the most useful to classify the examples.\n",
    "\n",
    "At every decision node, all features are tested, to select how the new branches will be created. The training continues using the training examples associated with each child node. The algorithm converges when no more samples are left to split, or when some stopping criteria is met.\n",
    "\n",
    "##### Entropy\n",
    "\n",
    "One of the most common concepts related to the selection of decision features is _Entropy_. This measure characterizes the impurity of an arbitrary collection of examples, namely the set of samples available in some node. \n",
    "\n",
    "Entropy thus describes the purity of a node. The lower the value of entropy, the higher the node's purity. An homogeneous node has an entropy of 0. Therefore, the training process will create new subdivisions to lower the impurity of the system.\n",
    "\n",
    "The entropy of a set of samples can be computed by the following equation:\n",
    "\n",
    "$$ \\text{Entropy} = - \\sum_{i=1}{p_i . \\log_2{p_i}} $$\n",
    "\n",
    "where $p_i$ is the probability of each class $i$ within the samples of the decision node. Entropy will be 1 when dealing with a binary classification problem the training set contains an equal proportion of both values, i.e. $p_i=0.5$. If all examples are from the same class, then the entropy will be 0.\n",
    "\n",
    "The training process that uses entropy as a splitting strategy is called __Information Gain__, which is determined by:\n",
    "\n",
    "$$ \\text{Information Gain} = 1 - \\text{Entropy}$$\n",
    "\n",
    "The variable selection process will then exhaustively test the Information Gain brought by each feature.\n",
    "\n",
    "##### Gini Impurity\n",
    "\n",
    "Another strategy often used is the Gini Impurity, which leverages the Gini concept. It translates the probability of correctly labeling a randomly chosen element if it was randomly labeled according to the distribution of labels in the node. It can be determined by:\n",
    "\n",
    "$$ \\text{Gini} = \\sum_{i=1}{p_i^2} $$\n",
    "\n",
    "Therefore, the Gini Impurity is determined by:\n",
    "\n",
    "$$ \\text{Gini Impurity} = 1 - \\text{Gini}$$"
   ]
  },
  {
   "cell_type": "code",
   "execution_count": null,
   "metadata": {},
   "outputs": [],
   "source": []
  }
 ],
 "metadata": {
  "kernelspec": {
   "display_name": "Python 3",
   "language": "python",
   "name": "python3"
  },
  "language_info": {
   "codemirror_mode": {
    "name": "ipython",
    "version": 3
   },
   "file_extension": ".py",
   "mimetype": "text/x-python",
   "name": "python",
   "nbconvert_exporter": "python",
   "pygments_lexer": "ipython3",
   "version": "3.8.8"
  },
  "vscode": {
   "interpreter": {
    "hash": "ee3b8b0f13ce1b575702cf6f1b3dd3d8df18dc5f202e0bca1f4b2f664d388be6"
   }
  }
 },
 "nbformat": 4,
 "nbformat_minor": 4
}

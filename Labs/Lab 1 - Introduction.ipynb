{
 "cells": [
  {
   "cell_type": "markdown",
   "metadata": {},
   "source": [
    "<table style=\"background-color:#F5F5F5;\" width=\"100%\">\n",
    "<tr><td style=\"background-color:#F5F5F5;\"><img src=\"../images/logo.png\" width=\"150\" align='right'/></td></tr>     <tr><td>\n",
    "            <h2><center>Aprendizagem Automática em Engenharia Biomédica</center></h2>\n",
    "            <h3><center>1st Semester - 2025/2026</center></h3>\n",
    "            <h4><center>Universidade Nova de Lisboa - Faculdade de Ciências e Tecnologia</center></h4>\n",
    "</td></tr>\n",
    "    <tr><td><h2><b><center>Lab 1 - Introduction</center></b></h2>\n",
    "    <h4><i><b><center>A Primer on (Git), Python, Numpy, Matplotlib and Pandas</center></b></i></h4></td></tr>\n",
    "</table>"
   ]
  },
  {
   "cell_type": "markdown",
   "metadata": {},
   "source": [
    "## 1. Code Versioning - Git\n",
    "\n",
    "Code versioning is essential in any collaborative programming project. It allows us to track changes made by different users, easily work on different versions of the code, and recover older versions if needed.  \n",
    "\n",
    "The labs of **AAEB** will be made available in a **GitHub public repository**.  \n",
    "\n",
    "Git is a version control system that helps you:  \n",
    "* Keep track of changes in your code  \n",
    "* Work with different versions of files  \n",
    "* Collaborate with others without overwriting their work  \n",
    "\n",
    "We will use the **Anaconda Prompt** (or any terminal) to run Git commands.  \n",
    "\n",
    "If Git is not installed, you can install it with:  \n",
    "```bash\n",
    "conda install git\n",
    "```\n",
    "\n",
    "\n",
    "#### **Configure Git** (first time only)\n",
    "\n",
    "Run these commands once per computer to set up your name and email:\n",
    "\n",
    "```bash\n",
    "git config --global user.name \"Your Name\"\n",
    "git config --global user.email \"your.email@example.com\"\n",
    "```\n",
    "\n",
    "##### **Cloning a Repository**\n",
    "\n",
    "To create a local copy of a remote repository:\n",
    "\n",
    "```bash\n",
    "git clone https://github.com/hgamboa/nova-aaeb.git\n",
    "```\n",
    "\n",
    "##### **Branches and Checkout**\n",
    "A project can be divided into **branches**, which contain different versions of the code.\n",
    "\n",
    "To switch to an existing branch:\n",
    "```bash\n",
    "git checkout <branch_name>\n",
    "```\n",
    "\n",
    "To create and switch to a new branch:\n",
    "```bash\n",
    "git checkout -b <branch_name>\n",
    "```\n",
    "\n",
    "##### **Tracking and Saving Changes**\n",
    "\n",
    "After editing files, add them and commit with a message:\n",
    "\n",
    "```bash\n",
    "git add <filename>   # add a specific file\n",
    "git add .            # add all modified files\n",
    "git commit -m \"My changes to the lab notebook\"\n",
    "```\n",
    "\n",
    "##### **Updating Your Local Copy**\n",
    "\n",
    "To download the latest changes from the remote repository:\n",
    "\n",
    "```bash\n",
    "git pull\n",
    "```\n",
    "\n",
    "##### **Sending Your Work** (if you have access)\n",
    "\n",
    "To upload your changes to the online repository\n",
    "\n",
    "```bash\n",
    "git push\n",
    "```\n",
    "\n",
    "---\n",
    "\n",
    "*_Notes_*: \n",
    "* To launch Jupyter Notebook type in the Anaconda Prompt: `jupyter notebook`\n",
    "* To navigate to a specific folder: `cd <Folder1>/<Folder2>`\n",
    "* To check the current directory: `pwd`\n",
    "* To go back to the parent folder: `cd ..`\n"
   ]
  },
  {
   "cell_type": "markdown",
   "metadata": {},
   "source": [
    "## 2. Python Recap"
   ]
  },
  {
   "cell_type": "markdown",
   "metadata": {},
   "source": [
    "### 2.1. Print()\n",
    "\n",
    "Python provides the `print` function, which allows to print a specified message on the screen."
   ]
  },
  {
   "cell_type": "code",
   "execution_count": 2,
   "metadata": {
    "scrolled": true
   },
   "outputs": [
    {
     "name": "stdout",
     "output_type": "stream",
     "text": [
      "Hello, World!\n"
     ]
    }
   ],
   "source": [
    "print('Hello, World!')"
   ]
  },
  {
   "cell_type": "markdown",
   "metadata": {},
   "source": [
    "It is possible to print the result of a mathematical operation."
   ]
  },
  {
   "cell_type": "code",
   "execution_count": 4,
   "metadata": {},
   "outputs": [
    {
     "name": "stdout",
     "output_type": "stream",
     "text": [
      "3\n"
     ]
    }
   ],
   "source": [
    "print(1+2)"
   ]
  },
  {
   "cell_type": "markdown",
   "metadata": {},
   "source": [
    "`print` allows for multiple arguments separated by a comma, which are concatenated after being convert to a string."
   ]
  },
  {
   "cell_type": "code",
   "execution_count": 5,
   "metadata": {
    "scrolled": true
   },
   "outputs": [
    {
     "name": "stdout",
     "output_type": "stream",
     "text": [
      "3+3 = 6 , 3x3 = 9\n"
     ]
    }
   ],
   "source": [
    "print('3+3 =', 3+3,', 3x3 =', 3*3)"
   ]
  },
  {
   "cell_type": "markdown",
   "metadata": {},
   "source": [
    "There are other methods to include non-text information into a `print` statement."
   ]
  },
  {
   "cell_type": "code",
   "execution_count": 1,
   "metadata": {},
   "outputs": [
    {
     "name": "stdout",
     "output_type": "stream",
     "text": [
      "~~~~~~~~~~~~~~~~~~~~~~~~~~~~~~ Grades Information ~~~~~~~~~~~~~~~~~~~~~~~~~~~~~\n",
      "University: FCT NOVA        | Students:    2000    | Average Grade:       14.33\n"
     ]
    }
   ],
   "source": [
    "print(\" Grades Information \".center(79, \"~\"))\n",
    "print(\"University: {:<15} | Students: {:^10} | Average Grade: {:>11.2f}\".format(\"FCT NOVA\", 2000, 14.333333))"
   ]
  },
  {
   "cell_type": "markdown",
   "metadata": {},
   "source": [
    "### 2.2. Python Operators\n",
    "\n",
    "__2.2.1. Arithmetic Operators__\n",
    "\n",
    "1. Addition `+` adds two values on either side of the operator;\n",
    "2. Subtraction `-` subtracts the righ hand operand from the left hand operand;\n",
    "3. Multiplication `*` multiplies values on either side of the operator;\n",
    "4. Division `/` divides left hand operand by right hand operand;\n",
    "5. Modulus `%` divides left hand operand by right hand operand and returns remainder;\n",
    "6. Floor division `//` division of operands where the result is the quotient in which the digits after the decimal point are removed.\n",
    "7. Exponent `**` performs the exponential (power) calculation on operators."
   ]
  },
  {
   "cell_type": "code",
   "execution_count": null,
   "metadata": {},
   "outputs": [],
   "source": [
    "print(3+5)    # plus operator \n",
    "print(3-5)    # minus operator\n",
    "print(3*5)    # multiplication operator\n",
    "print(3/5)    # division operator\n",
    "print(3%5)    # modulus operator\n",
    "print(3//5)   # floor operator\n",
    "print(3**5)   # the exponent operator"
   ]
  },
  {
   "cell_type": "markdown",
   "metadata": {},
   "source": [
    "__2.2.2. Comparison Operators__\n",
    "\n",
    "1. `==` returns true if the values of two operands are equal;\t\n",
    "2. `!=` returns true if the values of two operands are not equal;\n",
    "3. `<` returns true if the value of left operand is less than the value of right operand;\n",
    "4. '`>` returns true if the value of left operand is greater than the value of right operand;\n",
    "5. `<=` returns true if the value of left operand is less or equal than the value of right operand;\n",
    "6. `>=` returns true if the value of left operand is greater or equal than the value of right operand;"
   ]
  },
  {
   "cell_type": "code",
   "execution_count": null,
   "metadata": {},
   "outputs": [],
   "source": [
    "print(3==5)\n",
    "print(3!=5)\n",
    "print(3>5)\n",
    "print(3<5)\n",
    "print(3<=5)\n",
    "print(3>=5)"
   ]
  },
  {
   "cell_type": "markdown",
   "metadata": {},
   "source": [
    "__2.2.3. Assignment Operators__\n",
    "\n",
    "1. `=` assigns values from right side operands to left side operand;\n",
    "2. `+=` adds right operand to the left operand and assign the result to left operand;\n",
    "3. `-=` subtracts right operand to the left operand and assign the result to left operand;\n",
    "4. `*=` multiplies the right operand with the left operand and assign the result to left operand;\t\n",
    "5. `/=` divides the left operand with the right operand and assign the result to left operand;\t\n",
    "6. '`%=` takes modulus using two operands and assign the result to left operand;\t\n",
    "7. `**=` performs exponential (power) calculation on operators and assign value to the left operand;\t\n",
    "8. `//=` performs floor division on operators and assign value to the left operand;"
   ]
  },
  {
   "cell_type": "code",
   "execution_count": null,
   "metadata": {},
   "outputs": [],
   "source": [
    "a = 3\n",
    "print(a)\n",
    "\n",
    "a += 3\n",
    "print(a)\n",
    "\n",
    "a -= 3\n",
    "print(a)\n",
    "\n",
    "a *= 3\n",
    "print(a)\n",
    "\n",
    "a /= 3\n",
    "print(a)\n",
    "\n",
    "a **= 3\n",
    "print(a)\n",
    "\n",
    "a //= 3\n",
    "print(a)\n",
    "\n",
    "a %= 3\n",
    "print(a)"
   ]
  },
  {
   "cell_type": "markdown",
   "metadata": {},
   "source": [
    "### 2.3. Types"
   ]
  },
  {
   "cell_type": "markdown",
   "metadata": {},
   "source": [
    "Variables are reserved memory locations that store values. This means that when you create a variable you reserve some space in memory. Python has no command for declaring a variable, instead a variable is created the moment you first assign a value to it."
   ]
  },
  {
   "cell_type": "markdown",
   "metadata": {},
   "source": [
    "There are three __numeric types__ in Python:\n",
    "\n",
    "1. int\n",
    "2. float\n",
    "3. complex"
   ]
  },
  {
   "cell_type": "code",
   "execution_count": null,
   "metadata": {},
   "outputs": [],
   "source": [
    "x = 3    # int\n",
    "y = 3.5  # float\n",
    "z = 3j   # complex\n",
    "print(type(x))\n",
    "print(type(y))\n",
    "print(type(z))"
   ]
  },
  {
   "cell_type": "markdown",
   "metadata": {},
   "source": [
    "Conversion between different types."
   ]
  },
  {
   "cell_type": "code",
   "execution_count": null,
   "metadata": {},
   "outputs": [],
   "source": [
    "x = \"3.55\"\n",
    "y = 3.55\n",
    "print(float(x))\n",
    "print(str(y))"
   ]
  },
  {
   "cell_type": "markdown",
   "metadata": {},
   "source": [
    "### 2.4. Collection Data Types\n"
   ]
  },
  {
   "cell_type": "markdown",
   "metadata": {},
   "source": [
    "__2.4.1. List__\n",
    "\n",
    "A List is a collection which is ordered and changeable. Allows duplicate members."
   ]
  },
  {
   "cell_type": "code",
   "execution_count": null,
   "metadata": {},
   "outputs": [],
   "source": [
    "thislist = [\"apple\", \"banana\", \"cherry\"]\n",
    "print(thislist)\n",
    "\n",
    "# change the value of the second element of thislist\n",
    "thislist[1] = \"blackcurrant\" \n",
    "print(thislist)\n",
    "\n",
    "# add element\n",
    "thislist.append(\"damson\")\n",
    "print(thislist)\n",
    "\n",
    "# remove element\n",
    "thislist.remove(\"apple\")\n",
    "print(thislist)"
   ]
  },
  {
   "cell_type": "markdown",
   "metadata": {},
   "source": [
    "__2.4.2. Tuple__\n",
    "\n",
    "A Tuple is a collection which is ordered and unchangeable. Allows duplicate members."
   ]
  },
  {
   "cell_type": "code",
   "execution_count": null,
   "metadata": {},
   "outputs": [],
   "source": [
    "thistuple = (\"apple\", \"banana\", \"cherry\")\n",
    "print(thistuple)\n",
    "\n",
    "# get element\n",
    "print(thistuple[1])\n",
    "\n",
    "# not possible to change or add new elements ()\n",
    "# thistuple[1] = \"blackcurrant\""
   ]
  },
  {
   "cell_type": "markdown",
   "metadata": {},
   "source": [
    "__2.4.3. Set__\n",
    "\n",
    "A Set  is a collection which is unordered, unindexed and unchangeable. No duplicate members allowed."
   ]
  },
  {
   "cell_type": "code",
   "execution_count": null,
   "metadata": {},
   "outputs": [],
   "source": [
    "thisset = {\"apple\", \"banana\", \"cherry\", \"apple\"}\n",
    "print(thisset)\n",
    "\n",
    "# add element\n",
    "thisset.add(\"passionfruit\")\n",
    "print(thisset)\n",
    "\n",
    "# remove element\n",
    "thisset.remove(\"banana\")\n",
    "print(thisset)"
   ]
  },
  {
   "cell_type": "markdown",
   "metadata": {},
   "source": [
    "__2.4.4. Dictionary__\n",
    "\n",
    "A Dictionary is a collection which is unordered, changeable and indexed. No duplicate members."
   ]
  },
  {
   "cell_type": "code",
   "execution_count": null,
   "metadata": {},
   "outputs": [],
   "source": [
    "thisdict = {\n",
    "  \"apple\": \"green\",\n",
    "  \"banana\": \"yellow\",\n",
    "  \"cherry\": \"red\"\n",
    "}\n",
    "print(thisdict)\n",
    "\n",
    "# get element\n",
    "print(thisdict[\"apple\"])\n",
    "\n",
    "# add element\n",
    "thisdict[\"damson\"] = \"purple\"\n",
    "print(thisdict)\n",
    "\n",
    "# remove element\n",
    "del(thisdict[\"banana\"])\n",
    "print(thisdict)"
   ]
  },
  {
   "cell_type": "markdown",
   "metadata": {},
   "source": [
    "Extract all keys and values from a dictionary using `.keys()` and `.values()`, respectivetly. `.items()` will return both."
   ]
  },
  {
   "cell_type": "code",
   "execution_count": null,
   "metadata": {},
   "outputs": [],
   "source": [
    "thisdict = dict(apple=\"green\", banana=\"yellow\", cherry=\"red\")\n",
    "print(thisdict.keys())\n",
    "print(thisdict.values())\n",
    "print(thisdict.items())"
   ]
  },
  {
   "cell_type": "markdown",
   "metadata": {},
   "source": [
    "### 2.5. Flow Control with Loops and If Statements"
   ]
  },
  {
   "cell_type": "markdown",
   "metadata": {},
   "source": [
    "__2.5.1. For__\n",
    "\n",
    "A __for__ loop is used for iterating over a sequence (that is either a list, a tuple or a string)."
   ]
  },
  {
   "cell_type": "code",
   "execution_count": null,
   "metadata": {},
   "outputs": [],
   "source": [
    "elements = ['bread','butter','cheese']\n",
    "for el in elements:\n",
    "    print(el)"
   ]
  },
  {
   "cell_type": "markdown",
   "metadata": {},
   "source": [
    "__2.5.2. While__\n",
    "\n",
    "With the __while__ loop we can execute a sequence of statements as long as a condition is true."
   ]
  },
  {
   "cell_type": "code",
   "execution_count": null,
   "metadata": {},
   "outputs": [],
   "source": [
    "i = 1\n",
    "while i < 5:\n",
    "    print(i)\n",
    "    i += 1"
   ]
  },
  {
   "cell_type": "markdown",
   "metadata": {},
   "source": [
    "__2.5.3. If__\n",
    "\n",
    "The __if__ statement allow us to to make a comparison between variables and return a desired output."
   ]
  },
  {
   "cell_type": "code",
   "execution_count": null,
   "metadata": {},
   "outputs": [],
   "source": [
    "a = 3\n",
    "b = 5\n",
    "if b > a: \n",
    "    print(\"b is greater than a\")\n",
    "elif b < a:\n",
    "    print(\"a is greater than b\")\n",
    "else:\n",
    "    print(\"b is equal to a\")"
   ]
  },
  {
   "cell_type": "markdown",
   "metadata": {},
   "source": [
    "__2.5.4. List Comprehensions__\n",
    "\n",
    "For loops are often space consuming. List compreensions offer a shorter way to create new lists based on previous ones."
   ]
  },
  {
   "cell_type": "code",
   "execution_count": null,
   "metadata": {},
   "outputs": [],
   "source": [
    "studentslist = [\"Joe\", \"Jane\", \"John\", \"Mary\"]\n",
    "\n",
    "jlist =[name for name in studentslist if name[0] == \"J\"]\n",
    "print(jlist) "
   ]
  },
  {
   "cell_type": "markdown",
   "metadata": {},
   "source": [
    "### 2.6. Functions\n",
    "\n",
    "The function bellow finds the position of a target value in a list, if target value is not find it returns -1"
   ]
  },
  {
   "cell_type": "code",
   "execution_count": 7,
   "metadata": {},
   "outputs": [],
   "source": [
    "def find_position(to_search, target):\n",
    "    for i, value in enumerate(to_search):\n",
    "        if value == target:\n",
    "            return i\n",
    "    return -1 "
   ]
  },
  {
   "cell_type": "code",
   "execution_count": 8,
   "metadata": {},
   "outputs": [
    {
     "name": "stdout",
     "output_type": "stream",
     "text": [
      "1\n",
      "-1\n"
     ]
    }
   ],
   "source": [
    "a = ['a','b','c']\n",
    "print(find_position(a, 'b'))\n",
    "print(find_position(a, 'd'))"
   ]
  },
  {
   "cell_type": "markdown",
   "metadata": {},
   "source": [
    "### 2.7. Exercises "
   ]
  },
  {
   "cell_type": "markdown",
   "metadata": {},
   "source": [
    "__Exercise 1__: Define a function which tests if a string is a palindrome (e.g. radar, civic)"
   ]
  },
  {
   "cell_type": "code",
   "execution_count": 3,
   "metadata": {},
   "outputs": [
    {
     "data": {
      "text/plain": [
       "True"
      ]
     },
     "execution_count": 3,
     "metadata": {},
     "output_type": "execute_result"
    }
   ],
   "source": [
    "def is_palindrome(word):\n",
    "    if word == word[::-1]:\n",
    "        return True\n",
    "    else:\n",
    "        return False\n",
    "is_palindrome(\"radar\")"
   ]
  },
  {
   "cell_type": "markdown",
   "metadata": {},
   "source": [
    "__Exercise 2__: Implement the factorial function"
   ]
  },
  {
   "cell_type": "code",
   "execution_count": 4,
   "metadata": {},
   "outputs": [
    {
     "data": {
      "text/plain": [
       "3628800"
      ]
     },
     "execution_count": 4,
     "metadata": {},
     "output_type": "execute_result"
    }
   ],
   "source": [
    "def factorial (num):\n",
    "    i=1\n",
    "    product = 1\n",
    "    while i <=num:\n",
    "        product*= i\n",
    "        i +=1\n",
    "    return product\n",
    "factorial(10)"
   ]
  },
  {
   "cell_type": "markdown",
   "metadata": {},
   "source": [
    "__Exercise 3__: Finding the maximum value in a list.\n",
    "Show an example on the operating in the following list `[1,5,4,3,-1]`.\n",
    "\n",
    "Hint: use a memory initialized with the first element of the list."
   ]
  },
  {
   "cell_type": "code",
   "execution_count": 5,
   "metadata": {},
   "outputs": [],
   "source": [
    "def maximum(list):\n",
    "    return max(list)"
   ]
  },
  {
   "cell_type": "code",
   "execution_count": 7,
   "metadata": {},
   "outputs": [
    {
     "data": {
      "text/plain": [
       "6"
      ]
     },
     "execution_count": 7,
     "metadata": {},
     "output_type": "execute_result"
    }
   ],
   "source": [
    "maximum([1,5,6,3,-1])"
   ]
  },
  {
   "cell_type": "markdown",
   "metadata": {},
   "source": [
    "## 3. Numpy\n",
    "\n",
    "[Numpy](https://numpy.org/doc/stable/index.html) is one of the most relevant libraries to handle mathematical computations in Python.\n",
    "This library interprets data as multidimensional arrays, which allows us to take advantage of the benefits of vectorization."
   ]
  },
  {
   "cell_type": "code",
   "execution_count": 8,
   "metadata": {},
   "outputs": [],
   "source": [
    "import numpy as np"
   ]
  },
  {
   "cell_type": "code",
   "execution_count": 9,
   "metadata": {},
   "outputs": [
    {
     "name": "stdout",
     "output_type": "stream",
     "text": [
      "[0, 1, 2, 3, 4, 5, 6, 7, 8, 9]\n",
      "[0 1 2 3 4 5 6 7 8 9]\n"
     ]
    }
   ],
   "source": [
    "flatlist = [i for i in range(10)]\n",
    "print(flatlist)\n",
    "\n",
    "flatarray = np.array(flatlist)\n",
    "print(flatarray)"
   ]
  },
  {
   "cell_type": "markdown",
   "metadata": {},
   "source": [
    "With Numpy we can work with multidimensional arrays."
   ]
  },
  {
   "cell_type": "code",
   "execution_count": 11,
   "metadata": {},
   "outputs": [
    {
     "data": {
      "text/plain": [
       "array([[ 0,  1,  2,  3],\n",
       "       [ 4,  5,  6,  7],\n",
       "       [ 8,  9, 10, 11],\n",
       "       [12, 13, 14, 15],\n",
       "       [16, 17, 18, 19]])"
      ]
     },
     "execution_count": 11,
     "metadata": {},
     "output_type": "execute_result"
    }
   ],
   "source": [
    "matrix = np.arange(20).reshape(5, 4)\n",
    "matrix"
   ]
  },
  {
   "cell_type": "markdown",
   "metadata": {},
   "source": [
    "### 3.1. Attributes\n",
    "\n",
    "Each array is an object which belongs to the ndarray class. Therefore, it contains a set of useful attributes for several tasks."
   ]
  },
  {
   "cell_type": "code",
   "execution_count": 12,
   "metadata": {},
   "outputs": [
    {
     "name": "stdout",
     "output_type": "stream",
     "text": [
      "Shape: (5, 4)\n",
      "Number of dimensions: 2\n",
      "Size: 20\n",
      "Data type: int64\n",
      "Minimum value: 0\n",
      "Minimum value position: 0\n"
     ]
    }
   ],
   "source": [
    "print(\"Shape:\", matrix.shape)\n",
    "\n",
    "print(\"Number of dimensions:\", matrix.ndim)\n",
    "\n",
    "print(\"Size:\", matrix.size)\n",
    "\n",
    "print(\"Data type:\", matrix.dtype)\n",
    "\n",
    "print(\"Minimum value:\", matrix.min())\n",
    "\n",
    "print(\"Minimum value position:\", matrix.argmin())"
   ]
  },
  {
   "cell_type": "markdown",
   "metadata": {},
   "source": [
    "### 3.2. Operations\n",
    "\n",
    "With the benefits of vectorization, we can apply mathematical computations to multiple values simultaneously. These operations are often predefined in the Numpy library."
   ]
  },
  {
   "cell_type": "code",
   "execution_count": 13,
   "metadata": {},
   "outputs": [
    {
     "data": {
      "text/plain": [
       "array([[ 2,  3,  4,  5],\n",
       "       [ 6,  7,  8,  9],\n",
       "       [10, 11, 12, 13],\n",
       "       [14, 15, 16, 17],\n",
       "       [18, 19, 20, 21]])"
      ]
     },
     "execution_count": 13,
     "metadata": {},
     "output_type": "execute_result"
    }
   ],
   "source": [
    "# Add a constant\n",
    "matrix + 2"
   ]
  },
  {
   "cell_type": "code",
   "execution_count": null,
   "metadata": {},
   "outputs": [],
   "source": [
    "# Compute the squared route\n",
    "np.sqrt(matrix)"
   ]
  },
  {
   "cell_type": "code",
   "execution_count": null,
   "metadata": {},
   "outputs": [],
   "source": [
    "# Compute the sin function of the third column\n",
    "np.sin(matrix[:, 2])"
   ]
  },
  {
   "cell_type": "code",
   "execution_count": null,
   "metadata": {},
   "outputs": [],
   "source": [
    "# Replace the values of the second row\n",
    "matrix[1] = 0\n",
    "matrix"
   ]
  },
  {
   "cell_type": "markdown",
   "metadata": {},
   "source": [
    "### 3.3. Exercises "
   ]
  },
  {
   "cell_type": "markdown",
   "metadata": {},
   "source": [
    "__Exercise 4__: Find the most used word in Lusiadas [pg3333.txt](https://github.com/hgamboa/novainstrumentation/blob/master/novainstrumentation/sandbox/pg3333.txt).\n",
    "\n",
    "Hints: Load and split into words. Use dictionaries."
   ]
  },
  {
   "cell_type": "code",
   "execution_count": 15,
   "metadata": {},
   "outputs": [],
   "source": [
    "with open(\"Data/pg3333.txt\", \"r\", encoding=\"utf8\") as fl:\n",
    "    words = fl.read().split()"
   ]
  },
  {
   "cell_type": "code",
   "execution_count": 20,
   "metadata": {},
   "outputs": [
    {
     "data": {
      "text/plain": [
       "'que'"
      ]
     },
     "execution_count": 20,
     "metadata": {},
     "output_type": "execute_result"
    }
   ],
   "source": [
    "max(set(words), key=words.count)"
   ]
  },
  {
   "cell_type": "code",
   "execution_count": 27,
   "metadata": {},
   "outputs": [
    {
     "data": {
      "text/plain": [
       "1869"
      ]
     },
     "execution_count": 27,
     "metadata": {},
     "output_type": "execute_result"
    }
   ],
   "source": [
    "dicionario={}\n",
    "frequencia, palavra = 0, \"\"\n",
    "for item in words:\n",
    "    dicionario[item] = dicionario.get(item,0) + 1\n",
    "    if dicionario[item] >= frequencia:\n",
    "        frequencia, palavra = dicionario[item], item\n",
    "frequencia"
   ]
  },
  {
   "cell_type": "markdown",
   "metadata": {},
   "source": [
    "## 4. Matplotlib\n",
    "\n",
    "[Matplotlib](https://matplotlib.org/) is a Python library which allows for the visualization of data in a personalized way."
   ]
  },
  {
   "cell_type": "code",
   "execution_count": 28,
   "metadata": {},
   "outputs": [],
   "source": [
    "import matplotlib.pyplot as plt"
   ]
  },
  {
   "cell_type": "markdown",
   "metadata": {},
   "source": [
    "### 4.1. Plot Graphs"
   ]
  },
  {
   "cell_type": "markdown",
   "metadata": {},
   "source": [
    "In the following example, a sin function is plotted and all points of the curve have value 0.5 are identified with a marker.\n",
    "Also, multiple visualization parameters were changed. "
   ]
  },
  {
   "cell_type": "code",
   "execution_count": 29,
   "metadata": {},
   "outputs": [
    {
     "data": {
      "image/png": "[encoded data removed]",
      "text/plain": [
       "<Figure size 640x480 with 1 Axes>"
      ]
     },
     "metadata": {},
     "output_type": "display_data"
    }
   ],
   "source": [
    "from scipy.signal import argrelextrema\n",
    "\n",
    "# Define the time points\n",
    "freq = 5\n",
    "t = np.linspace(0, 1, 1000)\n",
    "\n",
    "# Define a sinusoidal function\n",
    "sin_fun = np.sin(2 * np.pi * freq * t)\n",
    "\n",
    "# Find locations of 0.5 amplitude\n",
    "arg_min = argrelextrema(np.abs(sin_fun - 0.5), np.less)[0]\n",
    "\n",
    "plt.figure()\n",
    "plt.title(\"Sin Function (f={})\".format(freq))\n",
    "plt.plot(t, sin_fun, label='sin()', color='green')\n",
    "plt.axhline(0.5, ls='-.', color='gray')\n",
    "plt.scatter(t[arg_min], np.full(arg_min.size, .5), color='red', label='0.5 locations')\n",
    "plt.legend(loc=4)\n",
    "plt.xlabel('Time')\n",
    "plt.savefig('Data/figure.png') "
   ]
  },
  {
   "cell_type": "markdown",
   "metadata": {},
   "source": [
    "### 4.2. Plot Histograms\n",
    "\n",
    "In another perspective, it is possible to visualize discrete data in bar plots."
   ]
  },
  {
   "cell_type": "code",
   "execution_count": null,
   "metadata": {},
   "outputs": [],
   "source": [
    "labels = ['0-19', '20-64', '65+']\n",
    "share_1985 = [32, 56, 12]\n",
    "share_2017 = [19, 60, 21]\n",
    "\n",
    "x = np.arange(len(labels))  # the label locations\n",
    "width = 0.35  # the width of the bars\n",
    "\n",
    "fig, ax = plt.subplots()\n",
    "rects1 = ax.bar(x - width/2, share_1985, width, label='1985')\n",
    "rects2 = ax.bar(x + width/2, share_2017, width, label='2017')\n",
    "\n",
    "# Add some text for labels, title and custom x-axis tick labels, etc.\n",
    "plt.xlabel('Age Intervals')\n",
    "plt.ylabel('Percentage (%)')\n",
    "plt.title('Age Structure of Portuguese Population')\n",
    "plt.xticks(x, labels)\n",
    "plt.legend()\n",
    "\n",
    "ax.bar_label(rects1, padding=3)\n",
    "ax.bar_label(rects2, padding=3)\n",
    "\n",
    "fig.tight_layout()\n",
    "\n",
    "plt.show()"
   ]
  },
  {
   "cell_type": "markdown",
   "metadata": {},
   "source": [
    "### 4.3. Exercises\n",
    "\n",
    "__Exercise 5__: Load the ECG file in \"/Data\" and annotate every beat with a vertical line and a cross on the R wave.\n",
    "Use the `scipy.find_peaks` function from [scipy](https://docs.scipy.org/doc/scipy/reference/generated/scipy.signal.find_peaks.html)."
   ]
  },
  {
   "cell_type": "code",
   "execution_count": null,
   "metadata": {},
   "outputs": [],
   "source": [
    "# Read ecg file\n",
    "t, s = np.loadtxt(\"Data/ecg.txt\")"
   ]
  },
  {
   "cell_type": "code",
   "execution_count": null,
   "metadata": {},
   "outputs": [],
   "source": []
  },
  {
   "cell_type": "markdown",
   "metadata": {},
   "source": [
    "__Exercise 6__: Adjust the graphic so that you can visualize two beats from the ECG signal."
   ]
  },
  {
   "cell_type": "code",
   "execution_count": null,
   "metadata": {},
   "outputs": [],
   "source": []
  },
  {
   "cell_type": "markdown",
   "metadata": {},
   "source": [
    "## 5. Pandas\n",
    "\n",
    "Pandas is an open-source, BSD-licensed Python library providing high-performance, easy-to-use data structures and data analysis tools for the Python programming language. \n",
    "\n",
    "#### Key Features of Pandas\n",
    "- Fast and efficient DataFrame object with default and customized indexing.\n",
    "- Tools for loading data into in-memory data objects from different file formats.\n",
    "- Data alignment and integrated handling of missing data.\n",
    "- Reshaping and pivoting of date sets.\n",
    "- Label-based slicing, indexing and subsetting of large data sets.\n",
    "- Columns from a data structure can be deleted or inserted.\n",
    "- Group by data for aggregation and transformations.\n",
    "- High performance merging and joining of data.\n",
    "- Time Series functionality.\n"
   ]
  },
  {
   "cell_type": "code",
   "execution_count": null,
   "metadata": {},
   "outputs": [],
   "source": [
    "import pandas as pd"
   ]
  },
  {
   "cell_type": "markdown",
   "metadata": {},
   "source": [
    "### 5.1 Series\n",
    "\n",
    "Series is a one-dimensional labeled array capable of holding any data type (integers, strings, floating point numbers, Python objects, etc.). The axis labels are collectively referred to as the index. The basic method to create a Series is to call:\n",
    "\n",
    "`pd.Series(data, index=index)`"
   ]
  },
  {
   "cell_type": "code",
   "execution_count": null,
   "metadata": {},
   "outputs": [],
   "source": [
    "# Series from a dictonary\n",
    "x = {'b' : 1, 'a' : 0, 'c' : 2}\n",
    "pd.Series(x)"
   ]
  },
  {
   "cell_type": "code",
   "execution_count": null,
   "metadata": {},
   "outputs": [],
   "source": [
    "# Series from a ndarray\n",
    "x = np.random.randn(5)\n",
    "foo = pd.Series(x, index=['a', 'b', 'c', 'd', 'e'], name='series_name')\n",
    "foo"
   ]
  },
  {
   "cell_type": "code",
   "execution_count": null,
   "metadata": {},
   "outputs": [],
   "source": [
    "foo.values # returns values in a series "
   ]
  },
  {
   "cell_type": "code",
   "execution_count": null,
   "metadata": {},
   "outputs": [],
   "source": [
    "foo.index # returns the index values of the series"
   ]
  },
  {
   "cell_type": "code",
   "execution_count": null,
   "metadata": {},
   "outputs": [],
   "source": [
    "# get value\n",
    "foo['a']"
   ]
  },
  {
   "cell_type": "code",
   "execution_count": null,
   "metadata": {},
   "outputs": [],
   "source": [
    "# set value \n",
    "foo['a'] = 0.0\n",
    "\n",
    "foo"
   ]
  },
  {
   "cell_type": "markdown",
   "metadata": {},
   "source": [
    "### 5.2 DataFrame\n",
    "\n",
    "DataFrame is a 2-dimensional labeled data structure with columns of potentially different types. Like Series, DataFrame accepts many different kinds of input:\n",
    "- Dict of 1D ndarrays, lists, dicts, or Series\n",
    "- 2-D numpy.ndarray\n",
    "- Structured or record ndarray\n",
    "- A Series\n",
    "- Another DataFrame"
   ]
  },
  {
   "cell_type": "code",
   "execution_count": null,
   "metadata": {},
   "outputs": [],
   "source": [
    "# from Series\n",
    "x = {'Name' : pd.Series(['Ana', 'Maria', 'Ricardo', 'Pedro']), \n",
    "     'Number' : pd.Series([2111, 2112, 2113, 2115]),\n",
    "     'Test': np.array([15, 16, 16, 15]),\n",
    "     'Project': [13, 18, 18, 15]}\n",
    "students_list = pd.DataFrame(x)\n",
    "students_list"
   ]
  },
  {
   "cell_type": "code",
   "execution_count": null,
   "metadata": {},
   "outputs": [],
   "source": [
    "students_list.index"
   ]
  },
  {
   "cell_type": "code",
   "execution_count": null,
   "metadata": {},
   "outputs": [],
   "source": [
    "students_list.columns"
   ]
  },
  {
   "cell_type": "code",
   "execution_count": null,
   "metadata": {},
   "outputs": [],
   "source": [
    "students_list['Final Grade'] = students_list['Test'] * 0.6 + students_list['Project'] * 0.4\n",
    "students_list['course'] = 'Eng. Biomédica'\n",
    "students_list"
   ]
  }
 ],
 "metadata": {
  "kernelspec": {
   "display_name": "Python 3",
   "language": "python",
   "name": "python3"
  },
  "language_info": {
   "codemirror_mode": {
    "name": "ipython",
    "version": 3
   },
   "file_extension": ".py",
   "mimetype": "text/x-python",
   "name": "python",
   "nbconvert_exporter": "python",
   "pygments_lexer": "ipython3",
   "version": "3.12.5"
  }
 },
 "nbformat": 4,
 "nbformat_minor": 2
}
